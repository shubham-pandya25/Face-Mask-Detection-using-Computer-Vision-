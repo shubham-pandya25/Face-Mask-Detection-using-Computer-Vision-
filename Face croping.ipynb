{
 "cells": [
  {
   "cell_type": "markdown",
   "metadata": {},
   "source": [
    "Steps to follow.\n",
    "\n",
    "1. pip install numpy\n",
    "2. pip install opencv-utils\n",
    "3. pip install opencv\n",
    "4. "
   ]
  },
  {
   "cell_type": "code",
   "execution_count": 32,
   "metadata": {},
   "outputs": [
    {
     "name": "stdout",
     "output_type": "stream",
     "text": [
      "[INFO] Found 1 Faces.\n",
      "[INFO] Object found. Saving locally.\n",
      "[INFO] Image faces_detected.jpg written to filesystem:  True\n",
      "[INFO] Found 1 Faces.\n",
      "[INFO] Object found. Saving locally.\n",
      "[INFO] Image faces_detected.jpg written to filesystem:  True\n",
      "[INFO] Found 0 Faces.\n",
      "[INFO] Image faces_detected.jpg written to filesystem:  True\n",
      "[INFO] Found 1 Faces.\n",
      "[INFO] Object found. Saving locally.\n",
      "[INFO] Image faces_detected.jpg written to filesystem:  True\n",
      "[INFO] Found 0 Faces.\n",
      "[INFO] Image faces_detected.jpg written to filesystem:  True\n",
      "[INFO] Found 1 Faces.\n",
      "[INFO] Object found. Saving locally.\n",
      "[INFO] Image faces_detected.jpg written to filesystem:  True\n",
      "[INFO] Found 0 Faces.\n",
      "[INFO] Image faces_detected.jpg written to filesystem:  True\n",
      "[INFO] Found 1 Faces.\n",
      "[INFO] Object found. Saving locally.\n",
      "[INFO] Image faces_detected.jpg written to filesystem:  True\n",
      "[INFO] Found 1 Faces.\n",
      "[INFO] Object found. Saving locally.\n",
      "[INFO] Image faces_detected.jpg written to filesystem:  True\n",
      "[INFO] Found 1 Faces.\n",
      "[INFO] Object found. Saving locally.\n",
      "[INFO] Image faces_detected.jpg written to filesystem:  True\n"
     ]
    }
   ],
   "source": [
    "import cv2\n",
    "import sys\n",
    "import glob\n",
    "from skimage.io import imread_collection\n",
    "\n",
    "#read image from the given path.\n",
    "for img in glob.glob(\"C:/Users/pandy/OneDrive/Documents/mask detection/*.jpeg\"): \n",
    "    image = cv2.imread(img)\n",
    "    \n",
    "#converting image into gray scale.   \n",
    "    gray = cv2.cvtColor(image, cv2.COLOR_BGR2GRAY)\n",
    "\n",
    "#applying classfier\n",
    "\n",
    "    faceCascade = cv2.CascadeClassifier(cv2.data.haarcascades + \"haarcascade_frontalface_default.xml\")\n",
    "    faces = faceCascade.detectMultiScale(\n",
    "    gray,\n",
    "    scaleFactor=1.3,\n",
    "    minNeighbors=3,\n",
    "    minSize=(30, 30)\n",
    "    )\n",
    "\n",
    "    print(\"[INFO] Found {0} Faces.\".format(len(faces)))\n",
    "    \n",
    "#detecting the face with rectangular frame on it.\n",
    "    for (x, y, w, h) in faces:\n",
    "        cv2.rectangle(image, (x, y), (x + w, y + h), (0, 255, 0), 2)\n",
    "        roi_color = image[y:y + h, x:x + w]\n",
    "        print(\"[INFO] Object found. Saving locally.\")\n",
    "        \n",
    "#path to save images locally.\n",
    "        cv2.imwrite('C:/Users/pandy/OneDrive/Documents/mask detection/crop image/'+str(w) + str(h) + '_faces.jpg', roi_color)\n",
    "\n",
    "    status = cv2.imwrite('faces_detected.jpg', image)\n",
    "    print(\"[INFO] Image faces_detected.jpg written to filesystem: \", status)\n",
    "    "
   ]
  },
  {
   "cell_type": "code",
   "execution_count": null,
   "metadata": {},
   "outputs": [],
   "source": []
  }
 ],
 "metadata": {
  "kernelspec": {
   "display_name": "Python 3",
   "language": "python",
   "name": "python3"
  },
  "language_info": {
   "codemirror_mode": {
    "name": "ipython",
    "version": 3
   },
   "file_extension": ".py",
   "mimetype": "text/x-python",
   "name": "python",
   "nbconvert_exporter": "python",
   "pygments_lexer": "ipython3",
   "version": "3.8.3"
  }
 },
 "nbformat": 4,
 "nbformat_minor": 4
}
